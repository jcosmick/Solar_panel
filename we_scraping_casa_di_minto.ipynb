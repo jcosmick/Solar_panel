{
 "cells": [
  {
   "cell_type": "code",
   "execution_count": 105,
   "metadata": {},
   "outputs": [],
   "source": [
    "import requests\n",
    "from bs4 import BeautifulSoup\n",
    "import pandas as pd\n",
    "import numpy as np\n",
    "import matplotlib.pyplot as plt\n",
    "\n",
    "USER_AGENT = \"Mozilla/5.0 (Windows NT 10.0; Win64; x64) AppleWebKit/537.36 (KHTML, like Gecko) Chrome/94.0.4606.81 Safari/537.36\"\n",
    "LANGUAGE = \"en-US,en;q=0.5\""
   ]
  },
  {
   "cell_type": "code",
   "execution_count": 106,
   "metadata": {},
   "outputs": [],
   "source": [
    "def html_code(url):\n",
    "\n",
    "    session = requests.Session()\n",
    "    session.headers['User-Agent'] = USER_AGENT\n",
    "    session.headers['Accept-Language'] = LANGUAGE\n",
    "    session.headers['Content-Language'] = LANGUAGE\n",
    "    html = session.get(url)\n",
    "    # create a new soup\n",
    "    soup = BeautifulSoup(html.text, \"html.parser\")\n",
    "    return(soup)"
   ]
  },
  {
   "cell_type": "code",
   "execution_count": 107,
   "metadata": {},
   "outputs": [],
   "source": [
    "mesi = [\"Gennaio\",\"Febbraio\",\"Marzo\",\"Aprile\",\"Maggio\",\"Giugno\",\"Luglio\",\"Agosto\",\"Settembre\",\"Ottobre\",\"Novembre\",\"Dicembre\"]\n",
    "lista_suprema = []"
   ]
  },
  {
   "cell_type": "code",
   "execution_count": 109,
   "metadata": {},
   "outputs": [],
   "source": [
    "for mese in mesi:\n",
    "    url = f\"https://www.ilmeteo.it/portale/archivio-meteo/Noale/2015/{mese}\"\n",
    "    zuppina = html_code(url)\n",
    "    tabella_giorni = zuppina.find_all(\"table\")[3]\n",
    "\n",
    "    giorni_mese = len(tabella_giorni.find_all(\"tr\"))\n",
    "    last_day = int(tabella_giorni.find_all(\"tr\")[giorni_mese-1].find_all(\"td\")[0].text)\n",
    "    for day in range(1,last_day+1):\n",
    "        url_giorno = f\"https://www.ilmeteo.it/portale/archivio-meteo/Noale/2015/{mese}/{day}\"\n",
    "        dati_giorno = html_code(url_giorno)\n",
    "        lista_cose_utili = [1,2,3,5,15,16]\n",
    "        claudia = [mese,day]\n",
    "        try:\n",
    "            tabellina = dati_giorno.find_all(\"table\")[3].find_all(\"tr\")\n",
    "            for el in lista_cose_utili:\n",
    "                claudia.append(tabellina[el].find_all(\"td\")[1].text)\n",
    "            lista_suprema.append(claudia)\n",
    "        except IndexError:\n",
    "            claudia.append(\"Missing data\")\n",
    "            claudia.append(\"Missing data\")\n",
    "            claudia.append(\"Missing data\")\n",
    "            claudia.append(\"Missing data\")\n",
    "            claudia.append(\"Missing data\")\n",
    "            claudia.append(\"Missing data\")\n",
    "            lista_suprema.append(claudia)\n",
    "df_meteo = pd.DataFrame(lista_suprema, columns=[\"Mese\", \"Giorno\", \"TMinima\", \"TMassima\", \"TMedia\", \"Umidita\", \"Fenomeni\",\"Condizioni\"])\n",
    "    "
   ]
  },
  {
   "cell_type": "code",
   "execution_count": 111,
   "metadata": {},
   "outputs": [],
   "source": [
    "df_meteo.to_csv(\"MeteoNoale2015.csv\")"
   ]
  }
 ],
 "metadata": {
  "interpreter": {
   "hash": "66e8724ed04f3212f5b8480ac4448c2a7dc43d74a382fb3890926263455643d4"
  },
  "kernelspec": {
   "display_name": "Python 3.10.1 64-bit",
   "language": "python",
   "name": "python3"
  },
  "language_info": {
   "codemirror_mode": {
    "name": "ipython",
    "version": 3
   },
   "file_extension": ".py",
   "mimetype": "text/x-python",
   "name": "python",
   "nbconvert_exporter": "python",
   "pygments_lexer": "ipython3",
   "version": "3.10.1"
  },
  "orig_nbformat": 4
 },
 "nbformat": 4,
 "nbformat_minor": 2
}
